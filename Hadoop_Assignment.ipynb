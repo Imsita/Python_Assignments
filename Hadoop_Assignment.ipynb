{
  "nbformat": 4,
  "nbformat_minor": 0,
  "metadata": {
    "colab": {
      "provenance": [],
      "authorship_tag": "ABX9TyPMI+st/H4C4jYzz/ptZade",
      "include_colab_link": true
    },
    "kernelspec": {
      "name": "python3",
      "display_name": "Python 3"
    },
    "language_info": {
      "name": "python"
    }
  },
  "cells": [
    {
      "cell_type": "markdown",
      "metadata": {
        "id": "view-in-github",
        "colab_type": "text"
      },
      "source": [
        "<a href=\"https://colab.research.google.com/github/Imsita/Python_Assignments/blob/main/Hadoop_Assignment.ipynb\" target=\"_parent\"><img src=\"https://colab.research.google.com/assets/colab-badge.svg\" alt=\"Open In Colab\"/></a>"
      ]
    },
    {
      "cell_type": "code",
      "execution_count": null,
      "metadata": {
        "id": "6s0w1tsKYPrA"
      },
      "outputs": [],
      "source": [
        "Problem 1:\n",
        "\n",
        "hdfs dfs -mkdir /dir01\n",
        "hdfs dfs -put input1.txt input2.txt input3.txt /dir01\n",
        "\n",
        "hdfs dfs -ls /dir01 | awk '{print $NF}'\n",
        "\n",
        "hdfs dfs -setrep -w 5 /dir01/*\n",
        "hdfs dfs -ls /dir01 | awk '{print $3\"\\t\"$NF}'\n",
        "\n",
        "hdfs dfs -mkdir /scenario01 /scenario01/level01 /scenario01/level01/level02\n",
        "hdfs dfs -put input1.txt /scenario01\n",
        "hdfs dfs -put input2.txt /scenario01/level01\n",
        "hdfs dfs -put input3.txt /scenario01/level01/level02\n",
        "\n",
        "hdfs dfs -ls -R /scenario01 | grep -e '.txt$' | awk '{print $NF}'"
      ]
    },
    {
      "cell_type": "code",
      "source": [
        "Problem 2:\n",
        "yarn jar your_mapreduce_jar.jar MainClassName input_path output_path\n",
        "\n",
        "yarn jar your_mapreduce_jar.jar MainClassName input_path output_path\n",
        "\n",
        "yarn application -kill <application_id>\n",
        "\n",
        "yarn application -list -appStates RUNNING\n",
        "\n",
        "yarn logs -applicationId <application_id>"
      ],
      "metadata": {
        "id": "rRTrV0OGYWVF"
      },
      "execution_count": null,
      "outputs": []
    }
  ]
}