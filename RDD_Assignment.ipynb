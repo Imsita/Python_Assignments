{
  "nbformat": 4,
  "nbformat_minor": 0,
  "metadata": {
    "colab": {
      "provenance": [],
      "authorship_tag": "ABX9TyMbyVxo2hwFeSbj0Ddi18qE",
      "include_colab_link": true
    },
    "kernelspec": {
      "name": "python3",
      "display_name": "Python 3"
    },
    "language_info": {
      "name": "python"
    }
  },
  "cells": [
    {
      "cell_type": "markdown",
      "metadata": {
        "id": "view-in-github",
        "colab_type": "text"
      },
      "source": [
        "<a href=\"https://colab.research.google.com/github/Imsita/Python_Assignments/blob/main/RDD_Assignment.ipynb\" target=\"_parent\"><img src=\"https://colab.research.google.com/assets/colab-badge.svg\" alt=\"Open In Colab\"/></a>"
      ]
    },
    {
      "cell_type": "code",
      "execution_count": null,
      "metadata": {
        "id": "kWGisu1GEIeI"
      },
      "outputs": [],
      "source": [
        "RDD"
      ]
    },
    {
      "cell_type": "code",
      "source": [
        "from pyspak import SparkContext,\n",
        "sparkConf\n",
        "# Create a SparkConf and SparkContext\n",
        "conf= SparkConf().setAppName(\"RDDExample\")\n",
        "sc= SparkContext(conf=conf)\n",
        "\n",
        "#Create an RDD of strings\n",
        "data = [\"C Programming\",\"C++\",\"Java\",\"Scala\",\"Python\"]\n",
        "rdd = sc.parallelize(data)\n",
        "\n",
        "# Filter elements with length greater than 5\n",
        "filtered_rdd = rdd.filter(lambda x:len(x)>5)\n",
        "\n",
        "#Collect and print the results\n",
        "results = filtered_rdd.collect()\n",
        "for result in results:\n",
        "        print(result)\n",
        "\n",
        "#Stop the SparkContext\n",
        "sc.stop()"
      ],
      "metadata": {
        "id": "oktj9VZWEL8S"
      },
      "execution_count": null,
      "outputs": []
    },
    {
      "cell_type": "code",
      "source": [
        "from pyspak import SparkContext,\n",
        "sparkConf\n",
        "# Create a SparkConf and SparkContext\n",
        "conf= SparkConf().setAppName(\"RDDExample\")\n",
        "sc= SparkContext(conf=conf)\n",
        "\n",
        "#Create an RDD of strings\n",
        "data = [\"C Programming\",\"C++\",\"Java\",\"Scala\",\"Python\"]\n",
        "rdd = sc.parallelize(data)\n",
        "\n",
        "# Filter elements with length greater than 5\n",
        "filtered_rdd = rdd.filter(lambda x:len(x)>5)\n",
        "\n",
        "#Collect and print the results\n",
        "results = filtered_rdd.collect()\n",
        "for result in reverse(results):\n",
        "        print(result)\n",
        "\n",
        "#Stop the SparkContext\n",
        "sc.stop()"
      ],
      "metadata": {
        "id": "5FKS_wEMGHR9"
      },
      "execution_count": null,
      "outputs": []
    },
    {
      "cell_type": "code",
      "source": [
        "from pyspak import SparkContext,\n",
        "sparkConf\n",
        "# Create a SparkConf and SparkContext\n",
        "conf= SparkConf().setAppName(\"RDDExample\")\n",
        "sc= SparkContext(conf=conf)\n",
        "\n",
        "#Create an RDD of strings\n",
        "data = [1024,2048,3072,4096,5120,6144,7168,8192 ]\n",
        "rdd = sc.parallelize(data)\n",
        "\n",
        "rdd_mb = rdd.mao(lambda x: x/1024)\n",
        "\n",
        "# Filter elements with length greater than 10 MB\n",
        "filtered_rdd = rdd_mb.filter(lambda x: x > 10)\n",
        "\n",
        "rdd_gb = filtered_rdd.map(lambda x: x / 1024)\n",
        "\n",
        "#Collect and print the results\n",
        "results = rdd_gb.collect()\n",
        "for result in results:\n",
        "        print(result)\n",
        "\n",
        "#Stop the SparkContext\n",
        "sc.stop()"
      ],
      "metadata": {
        "id": "LckD0RTCHLWr"
      },
      "execution_count": null,
      "outputs": []
    },
    {
      "cell_type": "code",
      "source": [],
      "metadata": {
        "id": "LaDM1WqKHE2z"
      },
      "execution_count": null,
      "outputs": []
    }
  ]
}