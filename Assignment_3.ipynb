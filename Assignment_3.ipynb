{
  "nbformat": 4,
  "nbformat_minor": 0,
  "metadata": {
    "colab": {
      "provenance": [],
      "authorship_tag": "ABX9TyNDn5AQwX0ZWprcApPnauf1",
      "include_colab_link": true
    },
    "kernelspec": {
      "name": "python3",
      "display_name": "Python 3"
    },
    "language_info": {
      "name": "python"
    }
  },
  "cells": [
    {
      "cell_type": "markdown",
      "metadata": {
        "id": "view-in-github",
        "colab_type": "text"
      },
      "source": [
        "<a href=\"https://colab.research.google.com/github/Imsita/Python_Assignments/blob/main/Assignment_3.ipynb\" target=\"_parent\"><img src=\"https://colab.research.google.com/assets/colab-badge.svg\" alt=\"Open In Colab\"/></a>"
      ]
    },
    {
      "cell_type": "code",
      "execution_count": null,
      "metadata": {
        "id": "I6uphxz7DBnM"
      },
      "outputs": [],
      "source": []
    },
    {
      "cell_type": "markdown",
      "source": [
        "Ques 1: Amswer:\n"
      ],
      "metadata": {
        "id": "G7ojo0bCDHZh"
      }
    },
    {
      "cell_type": "code",
      "source": [
        "def sum_numbers(numbers):\n",
        "    return sum(numbers)\n",
        "\n",
        "\n",
        "sample_list = [8, 2, 3, 0, 7]\n",
        "result = sum_numbers(sample_list)\n",
        "print(result)"
      ],
      "metadata": {
        "colab": {
          "base_uri": "https://localhost:8080/"
        },
        "id": "4qOctowsDLVA",
        "outputId": "64dca916-627b-4f76-bfde-d913cb93b672"
      },
      "execution_count": 1,
      "outputs": [
        {
          "output_type": "stream",
          "name": "stdout",
          "text": [
            "20\n"
          ]
        }
      ]
    },
    {
      "cell_type": "markdown",
      "source": [
        "Ques 2: Answer"
      ],
      "metadata": {
        "id": "Qn4tBX8wDfzH"
      }
    },
    {
      "cell_type": "code",
      "source": [
        "def reverse_string(string):\n",
        "    return string[::-1]\n",
        "\n",
        "sample_string = \"1234abcd\"\n",
        "reversed_string = reverse_string(sample_string)\n",
        "print(reversed_string)"
      ],
      "metadata": {
        "colab": {
          "base_uri": "https://localhost:8080/"
        },
        "id": "2EI-Ah_CDkHn",
        "outputId": "54f79b78-f165-4d67-9088-f9f93e6b0208"
      },
      "execution_count": 2,
      "outputs": [
        {
          "output_type": "stream",
          "name": "stdout",
          "text": [
            "dcba4321\n"
          ]
        }
      ]
    },
    {
      "cell_type": "markdown",
      "source": [
        "Ques 3: Answer"
      ],
      "metadata": {
        "id": "jWUAei4bDv-X"
      }
    },
    {
      "cell_type": "code",
      "source": [
        "def count_upper_lower(string):\n",
        "    upper_count = 0\n",
        "    lower_count = 0\n",
        "\n",
        "    for char in string:\n",
        "        if char.isupper():\n",
        "            upper_count += 1\n",
        "        elif char.islower():\n",
        "            lower_count += 1\n",
        "\n",
        "    return upper_count, lower_count\n",
        "\n",
        "sample_string = 'The quick Brow Fox'\n",
        "upper, lower = count_upper_lower(sample_string)\n",
        "print(\"No. of Upper case characters:\", upper)\n",
        "print(\"No. of Lower case characters:\", lower)"
      ],
      "metadata": {
        "colab": {
          "base_uri": "https://localhost:8080/"
        },
        "id": "wlfdTdBKD8gh",
        "outputId": "59b74c8d-c951-4175-c682-770708f1dddd"
      },
      "execution_count": 4,
      "outputs": [
        {
          "output_type": "stream",
          "name": "stdout",
          "text": [
            "No. of Upper case characters: 3\n",
            "No. of Lower case characters: 12\n"
          ]
        }
      ]
    }
  ]
}