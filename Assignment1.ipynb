{
  "nbformat": 4,
  "nbformat_minor": 0,
  "metadata": {
    "colab": {
      "provenance": [],
      "authorship_tag": "ABX9TyPr/TynNdFhZiBcseRgX/qX",
      "include_colab_link": true
    },
    "kernelspec": {
      "name": "python3",
      "display_name": "Python 3"
    },
    "language_info": {
      "name": "python"
    }
  },
  "cells": [
    {
      "cell_type": "markdown",
      "metadata": {
        "id": "view-in-github",
        "colab_type": "text"
      },
      "source": [
        "<a href=\"https://colab.research.google.com/github/Imsita/Python_Assignments/blob/main/Assignment1.ipynb\" target=\"_parent\"><img src=\"https://colab.research.google.com/assets/colab-badge.svg\" alt=\"Open In Colab\"/></a>"
      ]
    },
    {
      "cell_type": "code",
      "execution_count": null,
      "metadata": {
        "id": "q975P-JJDNbh"
      },
      "outputs": [],
      "source": []
    },
    {
      "cell_type": "markdown",
      "source": [
        "Problem Statement 01\n",
        "\n",
        "Write a program that takes a integer from keyboard and prints a string according the business logic given below\n",
        "\n",
        "1. For each multiple of 3, Print 'Fizz',\n",
        "\n",
        "2. For each multiple of 5, Print Fuzz\n",
        "\n",
        "3. For each multiple of 3 and 5 Print 'Fizz Buzz"
      ],
      "metadata": {
        "id": "bkabYpLrDSbS"
      }
    },
    {
      "cell_type": "code",
      "source": [
        "num = int(input(\"Ënter an Integer Number : \"))\n",
        "\n",
        "output = \"\"\n",
        "if num % 3 == 0:\n",
        "    output += \"Fizz\"\n",
        "if num % 5 == 0:\n",
        "    output += \"Buzz\"\n",
        "    \n",
        "if output == \"\":\n",
        "    output = str(num)\n",
        "    \n",
        "print(output) "
      ],
      "metadata": {
        "colab": {
          "base_uri": "https://localhost:8080/"
        },
        "id": "AOnWC14EDajx",
        "outputId": "227b4753-3934-49f8-e96d-c84a1ad01b0d"
      },
      "execution_count": 1,
      "outputs": [
        {
          "output_type": "stream",
          "name": "stdout",
          "text": [
            "Ënter an Integer Number : 5\n",
            "Buzz\n"
          ]
        }
      ]
    },
    {
      "cell_type": "markdown",
      "source": [
        "Write a program that computes the net amount of a bank account based on a transaction log from console input. The transaction log / sample input is in the format as shown below:\n",
        "\n",
        "\n",
        "\n",
        "Input\n",
        "\n",
        "log_message = D:100 W:10\n",
        "\n",
        "Output\n",
        "\n",
        "90\n",
        "\n",
        "Input\n",
        "\n",
        "Log_message = D:100 W:200 D:400\n",
        "\n",
        "Output\n",
        "\n",
        "300 (100 - 200 + 400 = 300)"
      ],
      "metadata": {
        "id": "oodD03DyD70G"
      }
    },
    {
      "cell_type": "code",
      "source": [
        "log_message = input(\"Enter the tarnsaction log : \")\n",
        "\n",
        "transactions = log_message.split()\n",
        "\n",
        "net_amt = 0\n",
        "for transaction in transactions:\n",
        "    if transaction.startswith(\"D:\"):\n",
        "        amt = int(transaction[2:])\n",
        "        net_amt += amt\n",
        "    elif transaction.startswith(\"W:\"):\n",
        "        amt = int(transaction[2:])\n",
        "        net_amt += amt\n",
        "\n",
        "print(net_amt)"
      ],
      "metadata": {
        "colab": {
          "base_uri": "https://localhost:8080/"
        },
        "id": "Jti-YwssD90t",
        "outputId": "25d0e57a-f9f6-4c8d-b7f7-16a47a9635e3"
      },
      "execution_count": 2,
      "outputs": [
        {
          "output_type": "stream",
          "name": "stdout",
          "text": [
            "Enter the tarnsaction log : 1000\n",
            "0\n"
          ]
        }
      ]
    },
    {
      "cell_type": "markdown",
      "source": [
        "Hands-on Assignment Problem Statement 03\n",
        "\n",
        "\n",
        "\n",
        "Write a program that prompts the user to input number of calls and calculate the monthly telephone bills as per the following rule:\n",
        "\n",
        "● Minimum Rs. 200 for up to 100 calls.\n",
        "\n",
        "● Plus Rs. 0.60 per call for next 50 calls.\n",
        "\n",
        "● Plus Rs. 0.50 per call for next 50 calls.\n",
        "\n",
        "● Plus Rs. 0.40 per call for any call beyond 200 calls."
      ],
      "metadata": {
        "id": "VoMO8nm2EJkz"
      }
    },
    {
      "cell_type": "code",
      "source": [
        "def calculate_telephone_bill(number_of_calls):\n",
        "  if number_of_calls <= 100:\n",
        "    bill = 200\n",
        "  elif number_of_calls <= 150:\n",
        "    bill = 200 + (number_of_calls -100) * 0.60\n",
        "  elif number_of_calls <= 150:\n",
        "    bill = 200 + 50 * 0.60 + (number_of_calls -150) * 0.50\n",
        "  else:\n",
        "    bill = 200 + 50 * 0.60 + 50 * 0.50 + (number_of_calls -200) * 0.40\n",
        "\n",
        "  return bill\n",
        "\n",
        "number_of_calls = int(input(\"Enter the no of calls: \"))\n",
        "bill_amount = calculate_telephone_bill(number_of_calls)\n",
        "print(\"The monthly telephone bill is : Rs \", bill_amount)\n"
      ],
      "metadata": {
        "colab": {
          "base_uri": "https://localhost:8080/"
        },
        "id": "T-pucuWDEQLk",
        "outputId": "ee62a2e9-ad15-42db-8999-5e3e92b7f27f"
      },
      "execution_count": 5,
      "outputs": [
        {
          "output_type": "stream",
          "name": "stdout",
          "text": [
            "Enter the no of calls: 250\n",
            "The monthly telephone bill is : Rs  275.0\n"
          ]
        }
      ]
    },
    {
      "cell_type": "markdown",
      "source": [
        "Hands-on Assignment Problem Statement 03\n",
        "\n",
        "\n",
        "\n",
        "Write a program that prompts the user to input number of calls and calculate the monthly telephone bills as per the following rule:\n",
        "\n",
        "● Minimum Rs. 200 for up to 100 calls.\n",
        "\n",
        "● Plus Rs. 0.60 per call for next 50 calls.\n",
        "\n",
        "● Plus Rs. 0.50 per call for next 50 calls.\n",
        "\n",
        "● Plus Rs. 0.40 per call for any call beyond 200 calls."
      ],
      "metadata": {
        "id": "nOZ0jN3iE11j"
      }
    },
    {
      "cell_type": "code",
      "source": [
        "def calculate_telephone_bill(calls):\n",
        "  if calls <= 100:\n",
        "     bill = 200\n",
        "  elif calls <= 150:\n",
        "     bill = 200 + (calls - 100) * 0.60\n",
        "  elif calls <= 200:\n",
        "     bill = 200 + 50 * 0.60 + (calls - 150) * 0.50\n",
        "  else:\n",
        "     bill = 200 + 50 * 0.60 + 50 * 0.50 + (calls - 200) * 0.40\n",
        "\n",
        "  return bill\n",
        "\n",
        "num_calls = int(input(\"Enter the number of calls: \"))\n",
        "\n",
        "bill_amount = calculate_telephone_bill(num_calls)\n",
        "\n",
        "print(\"Your monthly telephone bill is: Rs.\", bill_amount)"
      ],
      "metadata": {
        "colab": {
          "base_uri": "https://localhost:8080/"
        },
        "id": "4m_pTkPRFr1m",
        "outputId": "5ea4122c-1c71-42f9-a6bf-0ff0e0ccf45c"
      },
      "execution_count": 7,
      "outputs": [
        {
          "output_type": "stream",
          "name": "stdout",
          "text": [
            "Enter the number of calls: 250\n",
            "Your monthly telephone bill is: Rs. 275.0\n"
          ]
        }
      ]
    }
  ]
}