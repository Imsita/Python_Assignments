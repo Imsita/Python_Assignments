{
  "nbformat": 4,
  "nbformat_minor": 0,
  "metadata": {
    "colab": {
      "provenance": [],
      "authorship_tag": "ABX9TyP9T2IdJ5viTvyJdMRRLIg5",
      "include_colab_link": true
    },
    "kernelspec": {
      "name": "python3",
      "display_name": "Python 3"
    },
    "language_info": {
      "name": "python"
    }
  },
  "cells": [
    {
      "cell_type": "markdown",
      "metadata": {
        "id": "view-in-github",
        "colab_type": "text"
      },
      "source": [
        "<a href=\"https://colab.research.google.com/github/Imsita/Python_Assignments/blob/main/Hive_Assignment.ipynb\" target=\"_parent\"><img src=\"https://colab.research.google.com/assets/colab-badge.svg\" alt=\"Open In Colab\"/></a>"
      ]
    },
    {
      "cell_type": "code",
      "execution_count": null,
      "metadata": {
        "id": "dDepZLPAnYP9"
      },
      "outputs": [],
      "source": [
        "Problem 01 :\n",
        "UPDATE employee_data\n",
        "SET extra_vacation =\n",
        "  CASE\n",
        "    WHEN tenure < 2 THEN 20\n",
        "    WHEN tenure >= 2 AND tenure <= 10 THEN 30\n",
        "    WHEN tenure > 10 THEN 40\n",
        "  END;"
      ]
    },
    {
      "cell_type": "markdown",
      "source": [
        "Problem 02:\n",
        "\n",
        "CREATE TABLE temperature (\n",
        "  Date STRING,\n",
        "  State STRING,\n",
        "  Temperature ARRAY<DOUBLE>\n",
        ");\n",
        "\n",
        "INSERT INTO temperature (Date, State, Temperature)\n",
        "VALUES ('2023-08-01', 'California', ARRAY[75.5, 80.2, 82.9]);\n",
        "\n",
        "SELECT State, MAX(Temperature[1]) AS Max_Temperature\n",
        "FROM temperature\n",
        "GROUP BY State;"
      ],
      "metadata": {
        "id": "fjGKgJ69nn_p"
      }
    },
    {
      "cell_type": "markdown",
      "source": [
        "Problem 03:\n",
        "CREATE TABLE student_marks (\n",
        "  Name STRING,\n",
        "  Marks Map<STRING, INT>\n",
        ");\n",
        "\n",
        "INSERT INTO student_marks (Name, Marks)\n",
        "VALUES ('John', '{\"Maths\": 95, \"Physics\": 88, \"Chemistry\": 92}');\n",
        "\n",
        "SELECT Name\n",
        "FROM student_marks\n",
        "WHERE Marks['Maths'] > 90;\n",
        "\n",
        "SELECT Name, Marks['Physics'] AS Physics_Marks\n",
        "FROM student_marks;\n",
        "\n",
        "SELECT Name, MAX(Marks[subject]) AS Max_Subject_Marks\n",
        "FROM student_marks,\n",
        "LATERAL (SELECT subject FROM UNNEST(Marks) AS subject) AS subjects\n",
        "GROUP BY Name;\n",
        "\n",
        "SELECT Name, AVG(Marks[subject]) AS Average_Marks_Scored\n",
        "FROM student_marks,\n",
        "LATERAL (SELECT subject FROM UNNEST(Marks) AS subject) AS subjects\n",
        "GROUP BY Name;\n",
        "\n",
        "SELECT Name, (SUM(Marks[subject]) * 100 / (COUNT(Marks) * 100)) AS Percentage_Marks\n",
        "FROM student_marks,\n",
        "LATERAL (SELECT subject FROM UNNEST(Marks) AS subject) AS subjects\n",
        "GROUP BY Name;"
      ],
      "metadata": {
        "id": "fIsdl8Z0nyuS"
      }
    },
    {
      "cell_type": "markdown",
      "source": [
        "Problem 04:\n",
        "CREATE TABLE student_info (\n",
        "    Name VARCHAR(100),\n",
        "    Marks JSON, -- Assuming JSON data for Map<STRING, INT>\n",
        "    Address STRUCT (\n",
        "        doorNo INT,\n",
        "        Location VARCHAR(100),\n",
        "        Pincode INT\n",
        "    )\n",
        ");\n",
        "\n",
        "SELECT Name\n",
        "FROM student_info\n",
        "WHERE Address.Location = 'Banashankari';\n",
        "\n",
        "SELECT COUNT(*)\n",
        "FROM student_info\n",
        "WHERE Address.Pincode = 560001;\n"
      ],
      "metadata": {
        "id": "oM6leIDKoBEy"
      }
    }
  ]
}