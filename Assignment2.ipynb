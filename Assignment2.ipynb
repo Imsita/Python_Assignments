{
  "nbformat": 4,
  "nbformat_minor": 0,
  "metadata": {
    "colab": {
      "provenance": [],
      "authorship_tag": "ABX9TyOsU7gNWvdVK9/N3zbmjC60",
      "include_colab_link": true
    },
    "kernelspec": {
      "name": "python3",
      "display_name": "Python 3"
    },
    "language_info": {
      "name": "python"
    }
  },
  "cells": [
    {
      "cell_type": "markdown",
      "metadata": {
        "id": "view-in-github",
        "colab_type": "text"
      },
      "source": [
        "<a href=\"https://colab.research.google.com/github/Imsita/Python_Assignments/blob/main/Assignment2.ipynb\" target=\"_parent\"><img src=\"https://colab.research.google.com/assets/colab-badge.svg\" alt=\"Open In Colab\"/></a>"
      ]
    },
    {
      "cell_type": "code",
      "execution_count": null,
      "metadata": {
        "id": "6V9sZsK2KbjY"
      },
      "outputs": [],
      "source": []
    },
    {
      "cell_type": "markdown",
      "source": [
        "Problem Statement 01\n",
        "\n",
        "Given a list of numbers\n",
        "\n",
        "filenames = ['view.jpg', 'bear.jpg', 'ball.png']\n",
        "\n",
        "Write a program Add the file 'phone.jpg' to this list at the beginning. Then delete the file 'ball.png'. In response, print the filenames list to the console."
      ],
      "metadata": {
        "id": "dvnFYBmKKfZE"
      }
    },
    {
      "cell_type": "code",
      "source": [
        "filenames = ['view.jpg', 'bear.jpg', 'ball.png']\n",
        "\n",
        "\n",
        "filenames.insert(0, 'phone.jpg')\n",
        "\n",
        "\n",
        "filenames.remove('ball.png')\n",
        "\n",
        "\n",
        "print(filenames)"
      ],
      "metadata": {
        "colab": {
          "base_uri": "https://localhost:8080/"
        },
        "id": "oA6a8BlUKjNF",
        "outputId": "087cc76a-22fc-4cd1-f365-c7e754981f83"
      },
      "execution_count": 1,
      "outputs": [
        {
          "output_type": "stream",
          "name": "stdout",
          "text": [
            "['phone.jpg', 'view.jpg', 'bear.jpg']\n"
          ]
        }
      ]
    },
    {
      "cell_type": "markdown",
      "source": [
        "Problem Statement 02 Given a list of numbers\n",
        "\n",
        "L = [1,2,3,4,5,6,7,8,9,10]\n",
        "\n",
        "Write a program to find the maximum,minimum and average element in a given list without using m"
      ],
      "metadata": {
        "id": "CcSHzJyrK4vJ"
      }
    },
    {
      "cell_type": "code",
      "source": [
        "L = [1, 2, 3, 4, 5, 6, 7, 8, 9, 10]\n",
        "\n",
        "\n",
        "maximum = L[0]\n",
        "minimum = L[0]\n",
        "total = 0\n",
        "\n",
        "for num in L:\n",
        "  if num > maximum:\n",
        "     maximum = num\n",
        "  if num < minimum:\n",
        "     minimum = num\n",
        "  total += num\n",
        "\n",
        "average = total / len(L)\n",
        "\n",
        "# Print the results\n",
        "print(\"Maximum element:\", maximum)\n",
        "print(\"Minimum element:\", minimum)\n",
        "print(\"Average element:\", average)"
      ],
      "metadata": {
        "colab": {
          "base_uri": "https://localhost:8080/"
        },
        "id": "2OYmm4VLK8mb",
        "outputId": "d0e89235-af6c-4159-9c9c-359fd77ee10c"
      },
      "execution_count": 2,
      "outputs": [
        {
          "output_type": "stream",
          "name": "stdout",
          "text": [
            "Maximum element: 10\n",
            "Minimum element: 1\n",
            "Average element: 5.5\n"
          ]
        }
      ]
    },
    {
      "cell_type": "markdown",
      "source": [],
      "metadata": {
        "id": "x9CQ8R7VL2J6"
      }
    },
    {
      "cell_type": "markdown",
      "source": [
        "Problem Statement 01\n",
        "\n",
        "Given a list\n",
        "\n",
        "L : [1,1,1,1,2,2,3,3,3,3,4,5]\n",
        "\n",
        "Write a program to print only unique elements\n",
        "\n",
        "Note : Don't convert List to Set\n",
        "\n",
        "\n",
        "\n",
        "Expected Output\n",
        "\n",
        "Unique List : [1, 2, 3, 4, 5]"
      ],
      "metadata": {
        "id": "CyNrdXEML3GK"
      }
    },
    {
      "cell_type": "code",
      "source": [
        "L = [1, 1, 1, 1, 2, 2, 3, 3, 3, 3, 4, 5]\n",
        "\n",
        "\n",
        "unique_list = []\n",
        "\n",
        "\n",
        "for num in L:\n",
        "\n",
        "     if L.count(num) == 1:\n",
        "\n",
        "      unique_list.append(num)\n",
        "\n",
        "# Print the unique elements list\n",
        "print(\"Unique List:\", unique_list)"
      ],
      "metadata": {
        "colab": {
          "base_uri": "https://localhost:8080/"
        },
        "id": "K5j5VQu3L351",
        "outputId": "1f36fc58-5452-4b21-9274-715b45f1e354"
      },
      "execution_count": 3,
      "outputs": [
        {
          "output_type": "stream",
          "name": "stdout",
          "text": [
            "Unique List: [4, 5]\n"
          ]
        }
      ]
    },
    {
      "cell_type": "markdown",
      "source": [],
      "metadata": {
        "id": "5q8Y52gOMJ4g"
      }
    },
    {
      "cell_type": "markdown",
      "source": [
        "Problem Statement 02\n",
        "\n",
        "Given a list\n",
        "\n",
        "L = [1,2,3,4, [4,3] ]\n",
        "\n",
        "Check if the given number exist in the inner list\n",
        "\n"
      ],
      "metadata": {
        "id": "yl5tNRC9MKwT"
      }
    },
    {
      "cell_type": "code",
      "source": [
        "L = [1, 2, 3, 4, [4, 3]]\n",
        "\n",
        "number_to_check = 3\n",
        "\n",
        "t\n",
        "for item in L:\n",
        "# Check if the current item is a list\n",
        "    if isinstance(item, list):\n",
        "# Check if the number exists in the inner list\n",
        "       if number_to_check in item:\n",
        "           print(\"The number\", number_to_check, \"exists in the inner list.\")\n",
        "           break\n",
        "    else:\n",
        "          print(\"The number\", number_to_check, \"does not exist in the inner list.\")"
      ],
      "metadata": {
        "colab": {
          "base_uri": "https://localhost:8080/"
        },
        "id": "Z59rkkYHMLxW",
        "outputId": "5a1621ce-d0a5-4938-d22b-bae49c3780d4"
      },
      "execution_count": 5,
      "outputs": [
        {
          "output_type": "stream",
          "name": "stdout",
          "text": [
            "The number 3 does not exist in the inner list.\n",
            "The number 3 does not exist in the inner list.\n",
            "The number 3 does not exist in the inner list.\n",
            "The number 3 does not exist in the inner list.\n",
            "The number 3 exists in the inner list.\n"
          ]
        }
      ]
    },
    {
      "cell_type": "markdown",
      "source": [
        "Problem Statement 01\n",
        "\n",
        "Given a list of lists\n",
        "\n",
        "numbers_nested = [[1,-1,2],[0,-5,3,5,-2],[1,2,1,0,-2,-3]]\n",
        "\n",
        "Write a program to grab only positive numbers in each nested list and put that in a new list\n",
        "\n",
        "\n",
        "\n",
        "Expected Output\n",
        "\n",
        "[1, 2, 3, 5, 1, 2, 1]"
      ],
      "metadata": {
        "id": "La15EKJMM5rR"
      }
    },
    {
      "cell_type": "code",
      "source": [
        "numbers_nested = [[1, -1, 2], [0, -5, 3, 5, -2], [1, 2, 1, 0, -2, -3]]\n",
        "\n",
        "positive_numbers = []\n",
        "\n",
        "\n",
        "for nested_list in numbers_nested:\n",
        "\n",
        "     positive_numbers.extend([num for num in nested_list if num > 0])\n",
        "\n",
        "\n",
        "print(positive_numbers)"
      ],
      "metadata": {
        "colab": {
          "base_uri": "https://localhost:8080/"
        },
        "id": "ibmTL7UjM6wq",
        "outputId": "ed13cf23-2ea8-48f5-99d3-fabc4aa5b055"
      },
      "execution_count": 7,
      "outputs": [
        {
          "output_type": "stream",
          "name": "stdout",
          "text": [
            "[1, 2, 3, 5, 1, 2, 1]\n"
          ]
        }
      ]
    },
    {
      "cell_type": "markdown",
      "source": [
        "Given a list of lists\n",
        "\n",
        "L = [ [1,2,3] , [ 4,5,6,3 ], [-1,-2,-10,5,8] ]\n",
        "\n",
        "\n",
        "\n",
        "Write a program to to print the average sum of value from each inner list and print the sum of each average\n",
        "\n",
        "Expected Output\n",
        "\n",
        "6/3 + 18/4 + 0 ⇒ 2 + 4."
      ],
      "metadata": {
        "id": "lwZgbC7HNyzq"
      }
    },
    {
      "cell_type": "code",
      "source": [
        "L = [[1, 2, 3], [4, 5, 6, 3], [-1, -2, -10, 5, 8]]\n",
        "\n",
        "sum_of_averages = 0\n",
        "\n",
        "for inner_list in L:\n",
        "\n",
        "    average = sum(inner_list) / len(inner_list)\n",
        "\n",
        "    sum_of_averages += average\n",
        "\n",
        "print(sum_of_averages)"
      ],
      "metadata": {
        "colab": {
          "base_uri": "https://localhost:8080/"
        },
        "id": "uo-B3CqDN2P0",
        "outputId": "8bdca855-26d0-4d06-9e9a-f379be1827b7"
      },
      "execution_count": 10,
      "outputs": [
        {
          "output_type": "stream",
          "name": "stdout",
          "text": [
            "6.5\n"
          ]
        }
      ]
    }
  ]
}