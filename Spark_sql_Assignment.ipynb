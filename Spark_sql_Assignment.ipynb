{
  "nbformat": 4,
  "nbformat_minor": 0,
  "metadata": {
    "colab": {
      "provenance": [],
      "authorship_tag": "ABX9TyMf0AKoh+wKY8mqOrA/bpPD",
      "include_colab_link": true
    },
    "kernelspec": {
      "name": "python3",
      "display_name": "Python 3"
    },
    "language_info": {
      "name": "python"
    }
  },
  "cells": [
    {
      "cell_type": "markdown",
      "metadata": {
        "id": "view-in-github",
        "colab_type": "text"
      },
      "source": [
        "<a href=\"https://colab.research.google.com/github/Imsita/Python_Assignments/blob/main/Spark_sql_Assignment.ipynb\" target=\"_parent\"><img src=\"https://colab.research.google.com/assets/colab-badge.svg\" alt=\"Open In Colab\"/></a>"
      ]
    },
    {
      "cell_type": "code",
      "execution_count": null,
      "metadata": {
        "id": "kZXQoD3mAANG"
      },
      "outputs": [],
      "source": [
        "Spark Sql Assignment"
      ]
    },
    {
      "cell_type": "markdown",
      "source": [
        "import org.apache.spark.sql.SparkSession\n",
        "\n",
        "object PhoneNumberFetcher{\n",
        "  def main(args:Array[String]):Unit={\n",
        "    val spark = SparkSession.builder()\n",
        "    .appName(\"PhoneNumberFetcher\")\n",
        "    .config(\"spark.master\",\"local\")\n",
        "    .getOrCreate()\n",
        "\n",
        "  val phoneNumbersDF = spark.read\n",
        "   .format(\"csv\")\n",
        "   .option(\"header\",\"\"true\")\n",
        "   .load(\"path/to/phone_numbers.csv\") // Replace with teh actual path to csv file\n",
        "\n",
        "   phoneNumbers.DF.createOrReplaceTempView(\"phone_numbers\")\n",
        "\n",
        "   val officePhoneNumbers = spark.sql(\"SELECT phone_number FROM phone_numbers WHERE type = 'office'\")\n",
        "\n",
        "     officePhoneNumbers.show()\n",
        "\n",
        "     spark.stop()\n",
        "  }\n",
        "}"
      ],
      "metadata": {
        "id": "IZ_xP_iHAG0W"
      }
    }
  ]
}